{
 "cells": [
  {
   "cell_type": "code",
   "execution_count": null,
   "metadata": {},
   "outputs": [],
   "source": [
    "import os\n",
    "\n",
    "from dicomweb_client import DICOMwebClient\n",
    "from dotenv import load_dotenv\n",
    "\n",
    "load_dotenv(\"../.env.dev\")\n",
    "\n",
    "url = \"http://localhost:8000/api/dicom-web/ORTHANC1\"\n",
    "\n",
    "token = os.environ[\"ADMIN_AUTH_TOKEN\"]\n",
    "\n",
    "client = DICOMwebClient(\n",
    "    url=url,\n",
    "    qido_url_prefix=\"qidors\",\n",
    "    wado_url_prefix=\"wadors\",\n",
    "    stow_url_prefix=\"stowrs\",\n",
    "    headers={\"Authorization\": f\"Token {token}\"},\n",
    ")\n",
    "\n",
    "client.search_for_studies(search_filters={\"PatientID\": \"1001\"})"
   ]
  }
 ],
 "metadata": {
  "kernelspec": {
   "display_name": ".venv",
   "language": "python",
   "name": "python3"
  },
  "language_info": {
   "codemirror_mode": {
    "name": "ipython",
    "version": 3
   },
   "file_extension": ".py",
   "mimetype": "text/x-python",
   "name": "python",
   "nbconvert_exporter": "python",
   "pygments_lexer": "ipython3",
   "version": "3.12.2"
  },
  "orig_nbformat": 4
 },
 "nbformat": 4,
 "nbformat_minor": 2
}
