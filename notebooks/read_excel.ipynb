{
 "cells": [
  {
   "cell_type": "code",
   "execution_count": null,
   "metadata": {},
   "outputs": [],
   "source": [
    "# https://pandas.pydata.org/docs/user_guide/text.html\n",
    "# https://pandas.pydata.org/docs/user_guide/missing_data.html\n",
    "\n",
    "import pandas as pd\n",
    "\n",
    "types = {\n",
    "    \"PatientID\": \"string\",\n",
    "    \"PatientBirthDate\": \"datetime64[ns]\",\n",
    "}\n",
    "\n",
    "df = pd.read_excel(\"samples/batch_query_sample.xlsx\", dtype=\"string\")\n",
    "\n",
    "print(df[\"PatientID\"])\n",
    "# print(pd.isna(df[\"Patient\"][1]))"
   ]
  },
  {
   "cell_type": "code",
   "execution_count": null,
   "metadata": {},
   "outputs": [],
   "source": [
    "import pandas as pd\n",
    "from io import BytesIO\n",
    "from datetime import datetime\n",
    "\n",
    "df = pd.DataFrame(\n",
    "    [\n",
    "        [\"111    \", datetime(1975, 8, 31)],\n",
    "        [\"222\", \"31.08.1975\"],\n",
    "        # [\"333\", \"31.08.1975\"],\n",
    "    ],\n",
    "    columns=[\"PatientID\", \"PatientBirthDate\"],\n",
    ")\n",
    "\n",
    "batch_file = BytesIO()\n",
    "df.to_excel(batch_file, index=False, engine=\"openpyxl\")\n",
    "\n",
    "types = {\n",
    "    \"PatientID\": \"string\",\n",
    "    \"PatientBirthDate\": \"datetime64[ns]\",\n",
    "}\n",
    "\n",
    "df = pd.read_excel(batch_file, dtype=\"string\", engine=\"openpyxl\")\n",
    "\n",
    "\n",
    "for label in df.columns:\n",
    "    print(label)\n",
    "    # df[label] = df[label].str.strip()\n",
    "\n",
    "print(df)\n"
   ]
  },
  {
   "cell_type": "code",
   "execution_count": null,
   "metadata": {},
   "outputs": [],
   "source": [
    "from rest_framework import serializers\n",
    "from django.conf import settings\n",
    "\n",
    "settings.configure()\n",
    "\n",
    "class BatchSerializer(serializers.Serializer):\n",
    "    date = serializers.DateField()\n",
    "\n",
    "serializer = BatchSerializer(data={\"date\": \"31.08.1975\"})\n",
    "print(serializer.is_valid())"
   ]
  },
  {
   "cell_type": "code",
   "execution_count": null,
   "metadata": {},
   "outputs": [],
   "source": [
    "\n",
    "import os, sys\n",
    "import django\n",
    "PROJECT_PATH = '../adit'\n",
    "sys.path.insert(0, PROJECT_PATH)\n",
    "os.environ.setdefault(\"DJANGO_SETTINGS_MODULE\", \"adit_server.settings.development\")\n",
    "os.environ[\"DJANGO_ALLOW_ASYNC_UNSAFE\"] = \"true\"  # https://docs.djangoproject.com/en/4.1/topics/async/#async-safety\n",
    "os.chdir(PROJECT_PATH)\n",
    "django.setup()"
   ]
  },
  {
   "cell_type": "code",
   "execution_count": null,
   "metadata": {},
   "outputs": [],
   "source": [
    "from rest_framework import serializers\n",
    "from datetime import datetime\n",
    "\n",
    "class BatchSerializer(serializers.Serializer):\n",
    "    date = serializers.DateField(format=\"%Y-%m-%d %H:%M:%S\")\n",
    "\n",
    "# serializer = BatchSerializer(data={\"date\": \"1975-08-31 00:00:00\"})\n",
    "serializer = BatchSerializer(data={\"date\": datetime(1975, 8, 31).date()})\n",
    "print(serializer.is_valid())\n",
    "print(serializer.validated_data)"
   ]
  },
  {
   "cell_type": "code",
   "execution_count": null,
   "metadata": {},
   "outputs": [],
   "source": [
    "import re\n",
    "\n",
    "match = re.match(r\"^(\\d{4}-\\d{2}-\\d{2}) \\d{2}:\\d{2}:\\d{2}$\", \"1975-08-31 00:00:00\")\n",
    "if match:\n",
    "    print(match.group(1))"
   ]
  }
 ],
 "metadata": {
  "kernelspec": {
   "display_name": ".venv",
   "language": "python",
   "name": "python3"
  },
  "language_info": {
   "codemirror_mode": {
    "name": "ipython",
    "version": 3
   },
   "file_extension": ".py",
   "mimetype": "text/x-python",
   "name": "python",
   "nbconvert_exporter": "python",
   "pygments_lexer": "ipython3",
   "version": "3.10.11"
  },
  "orig_nbformat": 4
 },
 "nbformat": 4,
 "nbformat_minor": 2
}
